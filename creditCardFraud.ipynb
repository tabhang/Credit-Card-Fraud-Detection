{
 "cells": [
  {
   "cell_type": "code",
   "outputs": [],
   "source": [
    "import pandas as pd\n",
    "from sklearn.model_selection import train_test_split\n",
    "from sklearn.preprocessing import StandardScaler\n",
    "from imblearn.under_sampling import RandomUnderSampler\n",
    "from tensorflow.keras.models import Model\n",
    "from tensorflow.keras.layers import Input, Dense, Dropout\n",
    "from tensorflow.keras.optimizers import Adam\n",
    "from sklearn.metrics import classification_report"
   ],
   "metadata": {
    "collapsed": false,
    "ExecuteTime": {
     "end_time": "2024-01-10T07:04:10.680124855Z",
     "start_time": "2024-01-10T07:04:10.625481933Z"
    }
   },
   "id": "initial_id",
   "execution_count": 58
  },
  {
   "cell_type": "code",
   "outputs": [
    {
     "name": "stdout",
     "output_type": "stream",
     "text": [
      "Dataset Overview:\n",
      "<class 'pandas.core.frame.DataFrame'>\n",
      "RangeIndex: 284807 entries, 0 to 284806\n",
      "Data columns (total 31 columns):\n",
      " #   Column  Non-Null Count   Dtype  \n",
      "---  ------  --------------   -----  \n",
      " 0   Time    284807 non-null  float64\n",
      " 1   V1      284807 non-null  float64\n",
      " 2   V2      284807 non-null  float64\n",
      " 3   V3      284807 non-null  float64\n",
      " 4   V4      284807 non-null  float64\n",
      " 5   V5      284807 non-null  float64\n",
      " 6   V6      284807 non-null  float64\n",
      " 7   V7      284807 non-null  float64\n",
      " 8   V8      284807 non-null  float64\n",
      " 9   V9      284807 non-null  float64\n",
      " 10  V10     284807 non-null  float64\n",
      " 11  V11     284807 non-null  float64\n",
      " 12  V12     284807 non-null  float64\n",
      " 13  V13     284807 non-null  float64\n",
      " 14  V14     284807 non-null  float64\n",
      " 15  V15     284807 non-null  float64\n",
      " 16  V16     284807 non-null  float64\n",
      " 17  V17     284807 non-null  float64\n",
      " 18  V18     284807 non-null  float64\n",
      " 19  V19     284807 non-null  float64\n",
      " 20  V20     284807 non-null  float64\n",
      " 21  V21     284807 non-null  float64\n",
      " 22  V22     284807 non-null  float64\n",
      " 23  V23     284807 non-null  float64\n",
      " 24  V24     284807 non-null  float64\n",
      " 25  V25     284807 non-null  float64\n",
      " 26  V26     284807 non-null  float64\n",
      " 27  V27     284807 non-null  float64\n",
      " 28  V28     284807 non-null  float64\n",
      " 29  Amount  284807 non-null  float64\n",
      " 30  Class   284807 non-null  int64  \n",
      "dtypes: float64(30), int64(1)\n",
      "memory usage: 67.4 MB\n",
      "None\n",
      "\n",
      "Summary Statistics:\n",
      "                Time            V1            V2            V3            V4  \\\n",
      "count  284807.000000  2.848070e+05  2.848070e+05  2.848070e+05  2.848070e+05   \n",
      "mean    94813.859575  1.168375e-15  3.416908e-16 -1.379537e-15  2.074095e-15   \n",
      "std     47488.145955  1.958696e+00  1.651309e+00  1.516255e+00  1.415869e+00   \n",
      "min         0.000000 -5.640751e+01 -7.271573e+01 -4.832559e+01 -5.683171e+00   \n",
      "25%     54201.500000 -9.203734e-01 -5.985499e-01 -8.903648e-01 -8.486401e-01   \n",
      "50%     84692.000000  1.810880e-02  6.548556e-02  1.798463e-01 -1.984653e-02   \n",
      "75%    139320.500000  1.315642e+00  8.037239e-01  1.027196e+00  7.433413e-01   \n",
      "max    172792.000000  2.454930e+00  2.205773e+01  9.382558e+00  1.687534e+01   \n",
      "\n",
      "                 V5            V6            V7            V8            V9  \\\n",
      "count  2.848070e+05  2.848070e+05  2.848070e+05  2.848070e+05  2.848070e+05   \n",
      "mean   9.604066e-16  1.487313e-15 -5.556467e-16  1.213481e-16 -2.406331e-15   \n",
      "std    1.380247e+00  1.332271e+00  1.237094e+00  1.194353e+00  1.098632e+00   \n",
      "min   -1.137433e+02 -2.616051e+01 -4.355724e+01 -7.321672e+01 -1.343407e+01   \n",
      "25%   -6.915971e-01 -7.682956e-01 -5.540759e-01 -2.086297e-01 -6.430976e-01   \n",
      "50%   -5.433583e-02 -2.741871e-01  4.010308e-02  2.235804e-02 -5.142873e-02   \n",
      "75%    6.119264e-01  3.985649e-01  5.704361e-01  3.273459e-01  5.971390e-01   \n",
      "max    3.480167e+01  7.330163e+01  1.205895e+02  2.000721e+01  1.559499e+01   \n",
      "\n",
      "       ...           V21           V22           V23           V24  \\\n",
      "count  ...  2.848070e+05  2.848070e+05  2.848070e+05  2.848070e+05   \n",
      "mean   ...  1.654067e-16 -3.568593e-16  2.578648e-16  4.473266e-15   \n",
      "std    ...  7.345240e-01  7.257016e-01  6.244603e-01  6.056471e-01   \n",
      "min    ... -3.483038e+01 -1.093314e+01 -4.480774e+01 -2.836627e+00   \n",
      "25%    ... -2.283949e-01 -5.423504e-01 -1.618463e-01 -3.545861e-01   \n",
      "50%    ... -2.945017e-02  6.781943e-03 -1.119293e-02  4.097606e-02   \n",
      "75%    ...  1.863772e-01  5.285536e-01  1.476421e-01  4.395266e-01   \n",
      "max    ...  2.720284e+01  1.050309e+01  2.252841e+01  4.584549e+00   \n",
      "\n",
      "                V25           V26           V27           V28         Amount  \\\n",
      "count  2.848070e+05  2.848070e+05  2.848070e+05  2.848070e+05  284807.000000   \n",
      "mean   5.340915e-16  1.683437e-15 -3.660091e-16 -1.227390e-16      88.349619   \n",
      "std    5.212781e-01  4.822270e-01  4.036325e-01  3.300833e-01     250.120109   \n",
      "min   -1.029540e+01 -2.604551e+00 -2.256568e+01 -1.543008e+01       0.000000   \n",
      "25%   -3.171451e-01 -3.269839e-01 -7.083953e-02 -5.295979e-02       5.600000   \n",
      "50%    1.659350e-02 -5.213911e-02  1.342146e-03  1.124383e-02      22.000000   \n",
      "75%    3.507156e-01  2.409522e-01  9.104512e-02  7.827995e-02      77.165000   \n",
      "max    7.519589e+00  3.517346e+00  3.161220e+01  3.384781e+01   25691.160000   \n",
      "\n",
      "               Class  \n",
      "count  284807.000000  \n",
      "mean        0.001727  \n",
      "std         0.041527  \n",
      "min         0.000000  \n",
      "25%         0.000000  \n",
      "50%         0.000000  \n",
      "75%         0.000000  \n",
      "max         1.000000  \n",
      "\n",
      "[8 rows x 31 columns]\n",
      "\n",
      "Missing Values:\n",
      "Time      0\n",
      "V1        0\n",
      "V2        0\n",
      "V3        0\n",
      "V4        0\n",
      "V5        0\n",
      "V6        0\n",
      "V7        0\n",
      "V8        0\n",
      "V9        0\n",
      "V10       0\n",
      "V11       0\n",
      "V12       0\n",
      "V13       0\n",
      "V14       0\n",
      "V15       0\n",
      "V16       0\n",
      "V17       0\n",
      "V18       0\n",
      "V19       0\n",
      "V20       0\n",
      "V21       0\n",
      "V22       0\n",
      "V23       0\n",
      "V24       0\n",
      "V25       0\n",
      "V26       0\n",
      "V27       0\n",
      "V28       0\n",
      "Amount    0\n",
      "Class     0\n",
      "dtype: int64\n",
      "\n",
      "Class Distribution:\n",
      "Class\n",
      "0    284315\n",
      "1       492\n",
      "Name: count, dtype: int64\n"
     ]
    },
    {
     "data": {
      "text/plain": "<Figure size 600x400 with 1 Axes>",
      "image/png": "[encoded data removed]"
     },
     "metadata": {},
     "output_type": "display_data"
    }
   ],
   "source": [
    "data = pd.read_csv(\"Data/creditcard.csv\")\n",
    "\n",
    "print(\"Dataset Overview:\")\n",
    "print(data.info())\n",
    "\n",
    "# Display summary statistics\n",
    "print(\"\\nSummary Statistics:\")\n",
    "print(data.describe())\n",
    "\n",
    "# Check for missing values\n",
    "print(\"\\nMissing Values:\")\n",
    "print(data.isnull().sum())\n",
    "\n",
    "# Explore the distribution of classes (fraudulent vs. non-fraudulent transactions)\n",
    "print(\"\\nClass Distribution:\")\n",
    "print(data['Class'].value_counts())\n",
    "\n",
    "# Visualize the class distribution\n",
    "import matplotlib.pyplot as plt\n",
    "import seaborn as sns\n",
    "\n",
    "plt.figure(figsize=(6, 4))\n",
    "sns.countplot(x='Class', data=data, palette='Set1')\n",
    "plt.title('Class Distribution')\n",
    "plt.show()"
   ],
   "metadata": {
    "collapsed": false,
    "ExecuteTime": {
     "end_time": "2024-01-10T07:04:16.968494633Z",
     "start_time": "2024-01-10T07:04:12.705282730Z"
    }
   },
   "id": "8038f03fd68abffa",
   "execution_count": 59
  },
  {
   "cell_type": "code",
   "outputs": [],
   "source": [
    "data = data.drop('Time', axis=1)\n",
    "X = data.drop('Class', axis=1)\n",
    "y = data['Class']\n",
    "\n",
    "scaler = StandardScaler()\n",
    "X_scaled = scaler.fit_transform(X)\n",
    "\n",
    "X_train, X_test, y_train, y_test = train_test_split(X_scaled, y, test_size=0.2, random_state=42)"
   ],
   "metadata": {
    "collapsed": false,
    "ExecuteTime": {
     "end_time": "2024-01-10T07:04:17.218213007Z",
     "start_time": "2024-01-10T07:04:16.966172009Z"
    }
   },
   "id": "e02ada8055ecafe",
   "execution_count": 60
  },
  {
   "cell_type": "code",
   "outputs": [],
   "source": [
    "# underSampler = RandomUnderSampler(sampling_strategy=0.5, random_state=42)\n",
    "# X_resampled, y_resampled = underSampler.fit_resample(X_train, y_train)\n",
    "# \n",
    "# print(\"Preprocessed Data Overview:\")\n",
    "# print(\"X_train shape:\", X_resampled.shape)\n",
    "# print(\"y_train distribution:\\n\", y_resampled.value_counts())"
   ],
   "metadata": {
    "collapsed": false,
    "ExecuteTime": {
     "end_time": "2024-01-10T07:04:34.647484345Z",
     "start_time": "2024-01-10T07:04:34.286928554Z"
    }
   },
   "id": "8c48bd1e1b4c67dd",
   "execution_count": 61
  },
  {
   "cell_type": "code",
   "outputs": [],
   "source": [
    "def build_adversarial_network(input_dim, lr):\n",
    "    input_layer = Input(shape=(input_dim,))\n",
    "    \n",
    "    # Generator\n",
    "    generator = Dense(128, activation='relu')(input_layer)\n",
    "    generator = Dropout(0.3)(generator)\n",
    "    generator = Dense(64, activation='relu')(generator)\n",
    "    generator = Dense(input_dim, activation='sigmoid')(generator)\n",
    "    \n",
    "    # Discriminator\n",
    "    discriminator = Dense(64, activation='relu')(generator)\n",
    "    discriminator = Dropout(0.3)(discriminator)\n",
    "    discriminator = Dense(32, activation='relu')(discriminator)\n",
    "    discriminator_output = Dense(1, activation='sigmoid')(discriminator)\n",
    "\n",
    "    # Build and compile the model\n",
    "    model = Model(inputs=input_layer, outputs=discriminator_output)\n",
    "    model.compile(optimizer=Adam(learning_rate=lr), loss='binary_crossentropy', metrics=['accuracy'])\n",
    "\n",
    "    return model"
   ],
   "metadata": {
    "collapsed": false,
    "ExecuteTime": {
     "end_time": "2024-01-10T07:40:23.326520779Z",
     "start_time": "2024-01-10T07:40:23.124613789Z"
    }
   },
   "id": "74f9e66f3c8260d9",
   "execution_count": 66
  },
  {
   "cell_type": "code",
   "outputs": [
    {
     "name": "stdout",
     "output_type": "stream",
     "text": [
      "Epoch 1/20\n",
      "3561/3561 [==============================] - 12s 3ms/step - loss: 0.0362 - accuracy: 0.9967\n",
      "Epoch 2/20\n",
      "3561/3561 [==============================] - 11s 3ms/step - loss: 0.0040 - accuracy: 0.9991\n",
      "Epoch 3/20\n",
      "3561/3561 [==============================] - 11s 3ms/step - loss: 0.0035 - accuracy: 0.9994\n",
      "Epoch 4/20\n",
      "3561/3561 [==============================] - 11s 3ms/step - loss: 0.0033 - accuracy: 0.9994\n",
      "Epoch 5/20\n",
      "3561/3561 [==============================] - 11s 3ms/step - loss: 0.0031 - accuracy: 0.9994\n",
      "Epoch 6/20\n",
      "3561/3561 [==============================] - 11s 3ms/step - loss: 0.0031 - accuracy: 0.9994\n",
      "Epoch 7/20\n",
      "3561/3561 [==============================] - 11s 3ms/step - loss: 0.0031 - accuracy: 0.9994\n",
      "Epoch 8/20\n",
      "3561/3561 [==============================] - 11s 3ms/step - loss: 0.0030 - accuracy: 0.9994\n",
      "Epoch 9/20\n",
      "3561/3561 [==============================] - 11s 3ms/step - loss: 0.0029 - accuracy: 0.9994\n",
      "Epoch 10/20\n",
      "3561/3561 [==============================] - 11s 3ms/step - loss: 0.0028 - accuracy: 0.9994\n",
      "Epoch 11/20\n",
      "3561/3561 [==============================] - 11s 3ms/step - loss: 0.0027 - accuracy: 0.9994\n",
      "Epoch 12/20\n",
      "3561/3561 [==============================] - 11s 3ms/step - loss: 0.0027 - accuracy: 0.9994\n",
      "Epoch 13/20\n",
      "3561/3561 [==============================] - 11s 3ms/step - loss: 0.0025 - accuracy: 0.9995\n",
      "Epoch 14/20\n",
      "3561/3561 [==============================] - 11s 3ms/step - loss: 0.0026 - accuracy: 0.9994\n",
      "Epoch 15/20\n",
      "3561/3561 [==============================] - 11s 3ms/step - loss: 0.0025 - accuracy: 0.9994\n",
      "Epoch 16/20\n",
      "3561/3561 [==============================] - 11s 3ms/step - loss: 0.0025 - accuracy: 0.9995\n",
      "Epoch 17/20\n",
      "3561/3561 [==============================] - 11s 3ms/step - loss: 0.0025 - accuracy: 0.9995\n",
      "Epoch 18/20\n",
      "3561/3561 [==============================] - 11s 3ms/step - loss: 0.0024 - accuracy: 0.9995\n",
      "Epoch 19/20\n",
      "3561/3561 [==============================] - 11s 3ms/step - loss: 0.0024 - accuracy: 0.9995\n",
      "Epoch 20/20\n",
      "3561/3561 [==============================] - 11s 3ms/step - loss: 0.0023 - accuracy: 0.9995\n",
      "1781/1781 [==============================] - 3s 2ms/step\n",
      "\n",
      "Adversarial Network Evaluation:\n",
      "              precision    recall  f1-score   support\n",
      "\n",
      "           0       1.00      1.00      1.00     56864\n",
      "           1       0.89      0.81      0.84        98\n",
      "\n",
      "    accuracy                           1.00     56962\n",
      "   macro avg       0.94      0.90      0.92     56962\n",
      "weighted avg       1.00      1.00      1.00     56962\n",
      "\n",
      "AUPRC: 0.8470482270607983\n"
     ]
    },
    {
     "data": {
      "text/plain": "<Figure size 640x480 with 1 Axes>",
      "image/png": "[encoded data removed]"
     },
     "metadata": {},
     "output_type": "display_data"
    }
   ],
   "source": [
    "from sklearn.metrics import precision_recall_curve, auc\n",
    "\n",
    "input_dim = X_train.shape[1]\n",
    "# \n",
    "# learning_rates = [0.1, 0.01, 0.001, 0.0001, 0.00001]\n",
    "# \n",
    "# # Perform grid search over learning rates\n",
    "# for lr1 in learning_rates:\n",
    "#     print(f\"\\nTesting Learning Rate: {lr1}\")\n",
    "#     \n",
    "#     # Build and train the adversarial model\n",
    "#     adversarial_model = build_adversarial_network(input_dim, lr1)\n",
    "#     adversarial_model.fit(X_train, y_train, epochs=20, batch_size=64, verbose=1)\n",
    "# \n",
    "#     # Evaluate the model on the test set\n",
    "#     y_pred = (adversarial_model.predict(X_test) > 0.5).astype(\"int32\")\n",
    "#     \n",
    "#     # Display classification report for each learning rate\n",
    "#     print(f\"Learning Rate: {lr1}\")\n",
    "#     print(classification_report(y_test, y_pred))\n",
    "#     \n",
    "#     precision, recall, _ = precision_recall_curve(y_test, y_pred)\n",
    "#     auprc = auc(recall, precision)\n",
    "#     print(f\"AUPRC: {auprc}\")\n",
    "\n",
    "\n",
    "adversarial_model = build_adversarial_network(input_dim, 0.0001)\n",
    "\n",
    "adversarial_model.fit(X_train, y_train, epochs=20, batch_size=64, verbose=1)\n",
    "\n",
    "y_pred = (adversarial_model.predict(X_test) > 0.5).astype(\"int32\")\n",
    "print(\"\\nAdversarial Network Evaluation:\")\n",
    "print(classification_report(y_test, y_pred))\n",
    "\n",
    "precision, recall, _ = precision_recall_curve(y_test, y_pred)\n",
    "auprc = auc(recall, precision)\n",
    "print(f\"AUPRC: {auprc}\")\n",
    "\n",
    "# Plot the precision-recall curve\n",
    "plt.plot(recall, precision, label=f'AUPRC = {auprc:.2f}')\n",
    "plt.xlabel('Recall')\n",
    "plt.ylabel('Precision')\n",
    "plt.title('Precision-Recall Curve')\n",
    "plt.legend()\n",
    "plt.show()"
   ],
   "metadata": {
    "collapsed": false,
    "ExecuteTime": {
     "end_time": "2024-01-10T08:21:12.740347538Z",
     "start_time": "2024-01-10T08:17:29.238506845Z"
    }
   },
   "id": "958549c44bf5d6f1",
   "execution_count": 71
  },
  {
   "cell_type": "code",
   "outputs": [
    {
     "name": "stdout",
     "output_type": "stream",
     "text": [
      "\n",
      "Adversarial Network Evaluation:\n",
      "              precision    recall  f1-score   support\n",
      "\n",
      "           0       1.00      1.00      1.00     56864\n",
      "           1       0.97      0.78      0.86        98\n",
      "\n",
      "    accuracy                           1.00     56962\n",
      "   macro avg       0.99      0.89      0.93     56962\n",
      "weighted avg       1.00      1.00      1.00     56962\n"
     ]
    }
   ],
   "source": [
    "from sklearn.ensemble import RandomForestClassifier\n",
    "\n",
    "# Instantiate the Random Forest model\n",
    "random_forest = RandomForestClassifier()\n",
    "\n",
    "# Fit the model on the resampled training data\n",
    "random_forest.fit(X_train, y_train)\n",
    "\n",
    "# Predict on the test set\n",
    "y_pred_rf = random_forest.predict(X_test)\n",
    "print(\"\\nAdversarial Network Evaluation:\")\n",
    "print(classification_report(y_test, y_pred_rf))\n"
   ],
   "metadata": {
    "collapsed": false,
    "ExecuteTime": {
     "end_time": "2024-01-10T06:03:56.451918133Z",
     "start_time": "2024-01-10T05:58:50.236026545Z"
    }
   },
   "id": "99cfa9eb7321f588",
   "execution_count": 48
  },
  {
   "cell_type": "code",
   "outputs": [
    {
     "name": "stdout",
     "output_type": "stream",
     "text": [
      "\n",
      "Adversarial Network Evaluation:\n",
      "              precision    recall  f1-score   support\n",
      "\n",
      "           0       1.00      1.00      1.00     56864\n",
      "           1       0.97      0.78      0.86        98\n",
      "\n",
      "    accuracy                           1.00     56962\n",
      "   macro avg       0.99      0.89      0.93     56962\n",
      "weighted avg       1.00      1.00      1.00     56962\n"
     ]
    }
   ],
   "source": [
    "from xgboost import XGBClassifier\n",
    "\n",
    "# Instantiate the XGBoost model\n",
    "xgboost_model = XGBClassifier()\n",
    "\n",
    "# Fit the model on the resampled training data\n",
    "xgboost_model.fit(X_train, y_train)\n",
    "\n",
    "# Predict on the test set\n",
    "y_pred_xgboost = xgboost_model.predict(X_test)\n",
    "print(\"\\nAdversarial Network Evaluation:\")\n",
    "print(classification_report(y_test, y_pred_rf))"
   ],
   "metadata": {
    "collapsed": false,
    "ExecuteTime": {
     "end_time": "2024-01-10T06:05:21.734071851Z",
     "start_time": "2024-01-10T06:05:16.729076207Z"
    }
   },
   "id": "ae26a5a5c0c82d66",
   "execution_count": 49
  },
  {
   "cell_type": "code",
   "outputs": [
    {
     "data": {
      "text/plain": "<Figure size 640x480 with 1 Axes>",
      "image/png": "[encoded data removed]"
     },
     "metadata": {},
     "output_type": "display_data"
    }
   ],
   "source": [],
   "metadata": {
    "collapsed": false,
    "ExecuteTime": {
     "end_time": "2024-01-10T06:53:35.275689736Z",
     "start_time": "2024-01-10T06:53:34.892430339Z"
    }
   },
   "id": "4d3130e06aeb248d",
   "execution_count": 54
  }
 ],
 "metadata": {
  "kernelspec": {
   "display_name": "Python 3",
   "language": "python",
   "name": "python3"
  },
  "language_info": {
   "codemirror_mode": {
    "name": "ipython",
    "version": 2
   },
   "file_extension": ".py",
   "mimetype": "text/x-python",
   "name": "python",
   "nbconvert_exporter": "python",
   "pygments_lexer": "ipython2",
   "version": "2.7.6"
  }
 },
 "nbformat": 4,
 "nbformat_minor": 5
}
